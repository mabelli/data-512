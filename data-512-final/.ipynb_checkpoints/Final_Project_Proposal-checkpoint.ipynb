{
 "cells": [
  {
   "cell_type": "markdown",
   "metadata": {},
   "source": [
    "# Final Project Proposal"
   ]
  },
  {
   "cell_type": "markdown",
   "metadata": {},
   "source": [
    "## Motivation and problem statement"
   ]
  },
  {
   "cell_type": "markdown",
   "metadata": {},
   "source": [
    "> For my final project, I decided to focus on the effects of coronavirus (covid-19) on people's working environment, specificially the status quo of remote working. The impact of covid-19 on people's working environment is a phenomenon I observed and experienced my own. Nearly all companies in the US switch to remote conferences and remote work, with many of them planning to shift some of their employees to remote working permanently. Personally, I did my virtual summer internship at home and had mixed feelings about it. On the one hand, I enjoyed the convenience of no commuting and the flexibility of working hours and location. On the other hand, I felt like I lacked enough interactions and connections with my coworkers, cannot fully express myself when having meetings, and lacked motivations and efficiency due to a non-changing work-life environment. Comparable to working from home, all students have been studying from home since Marach. In conversation with my classmates, I learned that they have similar feelings of increasing convenience with lack of interaction and motivation. Working or studying from home has generated career-wise, social, mental, and physical impacts on the labor force and this change will persist after the pandemic, making it fundamental. <br>\n",
    "The long-term impacts of remote working on people's well-being are under debate and it is not clear whether it generates more positive or negative effects. Before the prospects are clear, I want to understand how different groups of people differ in their remote working status and affected by this working status. I hope the results of this project can help us understand of the impact of covid-19 on existing employment status of different population groups. "
   ]
  },
  {
   "cell_type": "markdown",
   "metadata": {},
   "source": [
    "## Background and Related Work"
   ]
  },
  {
   "cell_type": "markdown",
   "metadata": {},
   "source": [
    "> Remote working and the study of it have been around for a while. Formally, remote working means working outside of traditional organizations' definition of space and time. Before pandemic, a major group of remote workers work in tech-related industries in which the work can be performed remotely with computer and communication support. A study in 1983 examined behavioral, organizational, and social issues surrounding remote work. The study suggested that the important features of remote work jobs are minimum physical requirements, individual control over work pace, defined deliverables, and a relatively low need for communication. Individuals who succeeded in worked at home were highly self-motivated and self-disciplined and have skills which provided them with bargaining power. In addition, they made the arrangement either because of family requirements or because they preferred few social contacts beyond family. \n",
    "The study points out the pros and cons of remote work and suggests that remote work is not for anyone. Remote work gives individuals control over the working pace and environment and provides flexiblity for family requirements. However, remote work reduces social connections and is not suitable for everyone. For remote work to be successful, the organization needs to provides an environment for telecommunicating and the individual needs to thrive with minimum supervision. <br>\n",
    "More articles and blogs have summarized the pros and cons of remote working. Pros include increased productivity, flexible schedule and location, less distraction, and saving time and money. Cons include reduced visibility, less collaboration, social isolation, and distractions from home. <br>\n",
    "Another study conducted the research from the corporation perspective and found that working remotely has provided great benefits to businesses and let them significantly increase plans for remote hiring in the future. Overall, it seems like the impacts of working remotely vary for businesses and individuals. The goal of my study is to analyze the current remote working trend and anticipate its effect. "
   ]
  },
  {
   "cell_type": "markdown",
   "metadata": {},
   "source": [
    "## Research questions and hypotheses"
   ]
  },
  {
   "cell_type": "markdown",
   "metadata": {},
   "source": [
    "#### Research question: \n",
    "> How do different population groups differ for remote working status? Specifically, how do people from different states, regions, ages, and gender differ for their remote working choices? "
   ]
  },
  {
   "cell_type": "markdown",
   "metadata": {},
   "source": [
    "#### Hypothesis 1: \n",
    "> There is no significant difference of the percentage of people who shifted to remote work between men and women. \n",
    "\n",
    "#### Hypothesis 2: \n",
    "> There is a significant difference of the percentage of people who shifted to remote work for different age groups. Senior people are more likely to be remote working, since they are exposed to a higher risk.\n",
    "\n",
    "#### Hypothesis 3: \n",
    "> There is a significant difference of the percentage of people who shifted to remote work for different US regions. "
   ]
  },
  {
   "cell_type": "markdown",
   "metadata": {},
   "source": [
    "## Data"
   ]
  },
  {
   "cell_type": "markdown",
   "metadata": {},
   "source": [
    "> The data that I used is the survey data gathered by MIT researchers through Google Consumer Surveys from June 24 to July 6. The link to their github repo including the paper and the collected data is [here](https://github.com/johnjosephhorton/remote_work). In the survey, researchers asked a single question: \"Have you started to work from home in the last 4 weeks?\" and provided people with the following 6 response options: \n",
    "1. \"I continue to commute to work\"\n",
    "2. \"Used to commute, now work from home\"\n",
    "3. \"Not working for pay before start of COVID19\"\n",
    "4. \"I have recently been furloughed or laid-off\"\n",
    "5. \"Used to work from home and still do\"\n",
    "6. \"Used to work from home, but now I commute\" <br>\n",
    "<br>\n",
    "The researchers launched the survey for 10 days and collected a total of 25004 results. The dataset has 10 columns, including information about the survey (response, response time, user ID, etc) and about the person (gender, age, geography, weight, etc). There are missing values for the gender, age, and geography columns, which are labelled as 'unknown' and I removed them when conducting the analysis. \n"
   ]
  },
  {
   "cell_type": "markdown",
   "metadata": {},
   "source": [
    "## Methodology"
   ]
  },
  {
   "cell_type": "markdown",
   "metadata": {},
   "source": [
    "### For analysis:  \n",
    "#### Method 1:  Analysis of variance\n",
    "> Analysis of variance (ANOVA) is a method for analyzing the differences of group means in a sample. Each group is treated as a factor level. The hypothesis is that there is no difference between group means. If p-value is less than 0.05, the hypothesis is rejected, indicating that there is a significant difference between group means. Since I am comparing different groups for their remote working conversion rate, using ANOVA to compare the conversion rate is an effective method for this analysis. For my project, I have two factor levels (groups) for gender variable, 7 factor levels for age, 4 factor levels for region, and 51 factor levels for state. \n",
    "\n",
    "#### Method 2: Tukey's pairwise comparison\n",
    "> Tukey's pairwise comparison is used with ANOVA to create confidence intervals for all pairwise differences between factor level means. This method would tell us which groups are different from each other and which are not. Since I want to know for variables that has a significant difference between group means, which specific factor levels have different means, this method is informative.\n",
    "\n",
    "### For visualization:\n",
    "#### Method1: table\n",
    "> I will use table to show the results for ANOVA and pairwise comparison, since it contains information about the p-values, coefficients, and confidence intervals.\n",
    "\n",
    "#### Method2: map \n",
    "> Since state variable is a geographical parameter, I will use a map to visualize the results. Using the map to visualize geographical variable is more vivid and effective than visualizing it using a bar chart.\n",
    "\n",
    "#### Method3: bar charts and line charts\n",
    "> Bar charts and line charts are effective in showing the differences between groups. I will use bar charts and line charts to visualize the differences of remote working conversion rate between different groups for gender, age, and region. "
   ]
  },
  {
   "cell_type": "markdown",
   "metadata": {},
   "source": [
    "## Unknowns and dependencies"
   ]
  },
  {
   "cell_type": "markdown",
   "metadata": {},
   "source": [
    "> Since I have access to the datasets and define the research questions, the project is likely to be carried out successfully as expected. However, there might be some adjustments and imputations if the tables have a large number of missing values, which is not the case for the first 5 datasets that I examined. "
   ]
  },
  {
   "cell_type": "markdown",
   "metadata": {},
   "source": [
    "## Reference"
   ]
  },
  {
   "cell_type": "markdown",
   "metadata": {},
   "source": [
    "> Brynjolfsson, Erik, et al. COVID-19 and remote work: an early look at US data. No. w27344. National Bureau of Economic Research, 2020.\n",
    "\n",
    "> Chetty, Raj, et al. \"How did covid-19 and stabilization policies affect spending and employment? a new real-time economic tracker based on private sector data.\" No. w27431. National Bureau of Economic Research, 2020.\n",
    "\n",
    "> Dalton, Michael, Elizabeth Weber Handwerker, and Mark A. Loewenstein. \"Employment Changes by Employer Size using the Current Employment Statistics Survey microdata during the COVID-19 pandemic.\" Covid Economics, September 1.46 (2020): 123-136.\n",
    "\n",
    "> Nelson D. Schwartz. \"Jobs Report Shows Gains but Vulnerability to New Virus Surge\". November 6, 2020. \n",
    "\n",
    "> Olson, Margrethe H. \"Remote office work: changing work patterns in space and time.\" Communications of the ACM 26.3 (1983): 182-187.\n",
    "\n",
    "> \"Powell Says Rates Are Likely to Stay Low for Years.\" New York Times, September 18, 2020."
   ]
  },
  {
   "cell_type": "code",
   "execution_count": null,
   "metadata": {
    "collapsed": true
   },
   "outputs": [],
   "source": []
  }
 ],
 "metadata": {
  "kernelspec": {
   "display_name": "Python 3",
   "language": "python",
   "name": "python3"
  },
  "language_info": {
   "codemirror_mode": {
    "name": "ipython",
    "version": 3
   },
   "file_extension": ".py",
   "mimetype": "text/x-python",
   "name": "python",
   "nbconvert_exporter": "python",
   "pygments_lexer": "ipython3",
   "version": "3.6.2"
  }
 },
 "nbformat": 4,
 "nbformat_minor": 2
}
