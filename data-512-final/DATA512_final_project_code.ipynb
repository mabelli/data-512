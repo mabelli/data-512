{
 "cells": [
  {
   "cell_type": "markdown",
   "metadata": {},
   "source": [
    "# Table of contents"
   ]
  },
  {
   "cell_type": "markdown",
   "metadata": {},
   "source": [
    "1. [Import packages and dataset](#Import-packages-and-dataset)\n",
    "2. [Exploratory Analysis](#Exploratory-analysis)\n",
    "3. [Data processing](#Data-processing)\n",
    "4. [ANOVA with respect to age, gender, and region](#ANOVA:-comparing-remote-working-in-age,-gender,-and-region-groups)\n",
    "5. [Pairwise comparison with respect to age and region](#Tukey's-pairwise-comparison-for-different-age-and-region)\n",
    "6. [Save the final dataframe](#Save-the-processed,-final-dataframe)"
   ]
  },
  {
   "cell_type": "markdown",
   "metadata": {},
   "source": [
    "# Import packages and dataset"
   ]
  },
  {
   "cell_type": "code",
   "execution_count": 1,
   "metadata": {
    "collapsed": true
   },
   "outputs": [],
   "source": [
    "import pandas as pd\n",
    "import numpy as np\n",
    "import matplotlib.pyplot as plt\n",
    "import statsmodels.api as sm\n",
    "from statsmodels.formula.api import ols\n",
    "from statsmodels.stats.multicomp import pairwise_tukeyhsd\n",
    "import scipy.stats as stats\n",
    "import os\n",
    "%matplotlib inline  "
   ]
  },
  {
   "cell_type": "code",
   "execution_count": 2,
   "metadata": {
    "collapsed": true
   },
   "outputs": [],
   "source": [
    "# Load the data\n",
    "work_status = pd.read_csv(\n",
    "    \"https://raw.githubusercontent.com/johnjosephhorton/remote_work/master/etl/gcs3rdWave_changedOriginalQ_july4_final.csv\", \\\n",
    "    sep=\",\", \n",
    "    header=0,\n",
    "    )\n",
    "work_status = work_status.dropna()"
   ]
  },
  {
   "cell_type": "markdown",
   "metadata": {},
   "source": [
    "# Exploratory analysis"
   ]
  },
  {
   "cell_type": "code",
   "execution_count": 3,
   "metadata": {},
   "outputs": [
    {
     "data": {
      "text/plain": [
       "(25004, 10)"
      ]
     },
     "execution_count": 3,
     "metadata": {},
     "output_type": "execute_result"
    }
   ],
   "source": [
    "work_status.shape"
   ]
  },
  {
   "cell_type": "code",
   "execution_count": 4,
   "metadata": {
    "scrolled": true
   },
   "outputs": [
    {
     "data": {
      "text/html": [
       "<div>\n",
       "<style scoped>\n",
       "    .dataframe tbody tr th:only-of-type {\n",
       "        vertical-align: middle;\n",
       "    }\n",
       "\n",
       "    .dataframe tbody tr th {\n",
       "        vertical-align: top;\n",
       "    }\n",
       "\n",
       "    .dataframe thead th {\n",
       "        text-align: right;\n",
       "    }\n",
       "</style>\n",
       "<table border=\"1\" class=\"dataframe\">\n",
       "  <thead>\n",
       "    <tr style=\"text-align: right;\">\n",
       "      <th></th>\n",
       "      <th>User ID</th>\n",
       "      <th>Time (UTC)</th>\n",
       "      <th>Survey Completion</th>\n",
       "      <th>Publisher Category</th>\n",
       "      <th>Gender</th>\n",
       "      <th>Age</th>\n",
       "      <th>Geography</th>\n",
       "      <th>Weight</th>\n",
       "      <th>Question #1 Answer</th>\n",
       "      <th>Response Time #1 (ms)</th>\n",
       "    </tr>\n",
       "  </thead>\n",
       "  <tbody>\n",
       "    <tr>\n",
       "      <th>0</th>\n",
       "      <td>1000060079</td>\n",
       "      <td>2020-06-27 04:00:00</td>\n",
       "      <td>Complete</td>\n",
       "      <td>News</td>\n",
       "      <td>Female</td>\n",
       "      <td>55-64</td>\n",
       "      <td>US-SOUTH-AL-Pelham</td>\n",
       "      <td>0.922468</td>\n",
       "      <td>I continue to commute to work</td>\n",
       "      <td>23342</td>\n",
       "    </tr>\n",
       "    <tr>\n",
       "      <th>1</th>\n",
       "      <td>1000194255</td>\n",
       "      <td>2020-06-27 04:00:00</td>\n",
       "      <td>Complete</td>\n",
       "      <td>News</td>\n",
       "      <td>Female</td>\n",
       "      <td>45-54</td>\n",
       "      <td>US-WEST-NM-Los Lunas</td>\n",
       "      <td>1.110445</td>\n",
       "      <td>Used to commute, now work from home</td>\n",
       "      <td>20765</td>\n",
       "    </tr>\n",
       "    <tr>\n",
       "      <th>2</th>\n",
       "      <td>1000207679</td>\n",
       "      <td>2020-06-26 14:00:00</td>\n",
       "      <td>Complete</td>\n",
       "      <td>News</td>\n",
       "      <td>Female</td>\n",
       "      <td>25-34</td>\n",
       "      <td>US-SOUTH-VA-Washington</td>\n",
       "      <td>1.154895</td>\n",
       "      <td>I continue to commute to work</td>\n",
       "      <td>13883</td>\n",
       "    </tr>\n",
       "  </tbody>\n",
       "</table>\n",
       "</div>"
      ],
      "text/plain": [
       "      User ID           Time (UTC) Survey Completion Publisher Category  \\\n",
       "0  1000060079  2020-06-27 04:00:00          Complete               News   \n",
       "1  1000194255  2020-06-27 04:00:00          Complete               News   \n",
       "2  1000207679  2020-06-26 14:00:00          Complete               News   \n",
       "\n",
       "   Gender    Age               Geography    Weight  \\\n",
       "0  Female  55-64      US-SOUTH-AL-Pelham  0.922468   \n",
       "1  Female  45-54    US-WEST-NM-Los Lunas  1.110445   \n",
       "2  Female  25-34  US-SOUTH-VA-Washington  1.154895   \n",
       "\n",
       "                    Question #1 Answer  Response Time #1 (ms)  \n",
       "0        I continue to commute to work                  23342  \n",
       "1  Used to commute, now work from home                  20765  \n",
       "2        I continue to commute to work                  13883  "
      ]
     },
     "execution_count": 4,
     "metadata": {},
     "output_type": "execute_result"
    }
   ],
   "source": [
    "work_status.head(3)"
   ]
  },
  {
   "cell_type": "code",
   "execution_count": 5,
   "metadata": {
    "scrolled": false
   },
   "outputs": [
    {
     "data": {
      "text/html": [
       "<div>\n",
       "<style scoped>\n",
       "    .dataframe tbody tr th:only-of-type {\n",
       "        vertical-align: middle;\n",
       "    }\n",
       "\n",
       "    .dataframe tbody tr th {\n",
       "        vertical-align: top;\n",
       "    }\n",
       "\n",
       "    .dataframe thead th {\n",
       "        text-align: right;\n",
       "    }\n",
       "</style>\n",
       "<table border=\"1\" class=\"dataframe\">\n",
       "  <thead>\n",
       "    <tr style=\"text-align: right;\">\n",
       "      <th></th>\n",
       "      <th>Time (UTC)</th>\n",
       "      <th>Survey Completion</th>\n",
       "      <th>Publisher Category</th>\n",
       "      <th>Gender</th>\n",
       "      <th>Age</th>\n",
       "      <th>Geography</th>\n",
       "      <th>Question #1 Answer</th>\n",
       "    </tr>\n",
       "  </thead>\n",
       "  <tbody>\n",
       "    <tr>\n",
       "      <th>count</th>\n",
       "      <td>25004</td>\n",
       "      <td>25004</td>\n",
       "      <td>25004</td>\n",
       "      <td>25004</td>\n",
       "      <td>25004</td>\n",
       "      <td>25004</td>\n",
       "      <td>25004</td>\n",
       "    </tr>\n",
       "    <tr>\n",
       "      <th>unique</th>\n",
       "      <td>303</td>\n",
       "      <td>1</td>\n",
       "      <td>4</td>\n",
       "      <td>3</td>\n",
       "      <td>7</td>\n",
       "      <td>823</td>\n",
       "      <td>6</td>\n",
       "    </tr>\n",
       "    <tr>\n",
       "      <th>top</th>\n",
       "      <td>2020-06-24 01:00:00</td>\n",
       "      <td>Complete</td>\n",
       "      <td>News</td>\n",
       "      <td>Male</td>\n",
       "      <td>45-54</td>\n",
       "      <td>US-SOUTH-TX</td>\n",
       "      <td>I continue to commute to work</td>\n",
       "    </tr>\n",
       "    <tr>\n",
       "      <th>freq</th>\n",
       "      <td>459</td>\n",
       "      <td>25004</td>\n",
       "      <td>23748</td>\n",
       "      <td>11627</td>\n",
       "      <td>4431</td>\n",
       "      <td>747</td>\n",
       "      <td>7845</td>\n",
       "    </tr>\n",
       "  </tbody>\n",
       "</table>\n",
       "</div>"
      ],
      "text/plain": [
       "                 Time (UTC) Survey Completion Publisher Category Gender  \\\n",
       "count                 25004             25004              25004  25004   \n",
       "unique                  303                 1                  4      3   \n",
       "top     2020-06-24 01:00:00          Complete               News   Male   \n",
       "freq                    459             25004              23748  11627   \n",
       "\n",
       "          Age    Geography             Question #1 Answer  \n",
       "count   25004        25004                          25004  \n",
       "unique      7          823                              6  \n",
       "top     45-54  US-SOUTH-TX  I continue to commute to work  \n",
       "freq     4431          747                           7845  "
      ]
     },
     "execution_count": 5,
     "metadata": {},
     "output_type": "execute_result"
    }
   ],
   "source": [
    "work_status.describe(exclude = np.number)"
   ]
  },
  {
   "cell_type": "markdown",
   "metadata": {},
   "source": [
    "### Observation: \n",
    "- Gender has three groups, one of which is unknown category. \n",
    "- Age is recorded in bins. \n",
    "- There are 6 options for question #1."
   ]
  },
  {
   "cell_type": "markdown",
   "metadata": {},
   "source": [
    "### Check different values for working status survey answers and percentage for each answer."
   ]
  },
  {
   "cell_type": "code",
   "execution_count": 6,
   "metadata": {
    "scrolled": true
   },
   "outputs": [
    {
     "data": {
      "text/plain": [
       "array(['I continue to commute to work',\n",
       "       'Used to commute, now work from home',\n",
       "       'Not working for pay before start of COVID19',\n",
       "       'I have recently been furloughed or laid-off',\n",
       "       'Used to work from home and still do',\n",
       "       'Used to work from home, but now I commute'], dtype=object)"
      ]
     },
     "execution_count": 6,
     "metadata": {},
     "output_type": "execute_result"
    }
   ],
   "source": [
    "work_status['Question #1 Answer'].unique()"
   ]
  },
  {
   "cell_type": "code",
   "execution_count": 7,
   "metadata": {
    "collapsed": true
   },
   "outputs": [],
   "source": [
    "agg_work_status = work_status.groupby('Question #1 Answer').count()[['User ID']].rename(columns={\"User ID\": \"count of users\"})"
   ]
  },
  {
   "cell_type": "code",
   "execution_count": 8,
   "metadata": {
    "collapsed": true
   },
   "outputs": [],
   "source": [
    "agg_work_status['percentage'] = agg_work_status[['count of users']]*100 / work_status.shape[0]"
   ]
  },
  {
   "cell_type": "code",
   "execution_count": 9,
   "metadata": {
    "scrolled": true
   },
   "outputs": [
    {
     "data": {
      "text/html": [
       "<div>\n",
       "<style scoped>\n",
       "    .dataframe tbody tr th:only-of-type {\n",
       "        vertical-align: middle;\n",
       "    }\n",
       "\n",
       "    .dataframe tbody tr th {\n",
       "        vertical-align: top;\n",
       "    }\n",
       "\n",
       "    .dataframe thead th {\n",
       "        text-align: right;\n",
       "    }\n",
       "</style>\n",
       "<table border=\"1\" class=\"dataframe\">\n",
       "  <thead>\n",
       "    <tr style=\"text-align: right;\">\n",
       "      <th></th>\n",
       "      <th>count of users</th>\n",
       "      <th>percentage</th>\n",
       "    </tr>\n",
       "    <tr>\n",
       "      <th>Question #1 Answer</th>\n",
       "      <th></th>\n",
       "      <th></th>\n",
       "    </tr>\n",
       "  </thead>\n",
       "  <tbody>\n",
       "    <tr>\n",
       "      <th>I continue to commute to work</th>\n",
       "      <td>7845</td>\n",
       "      <td>31.374980</td>\n",
       "    </tr>\n",
       "    <tr>\n",
       "      <th>I have recently been furloughed or laid-off</th>\n",
       "      <td>1786</td>\n",
       "      <td>7.142857</td>\n",
       "    </tr>\n",
       "    <tr>\n",
       "      <th>Not working for pay before start of COVID19</th>\n",
       "      <td>6699</td>\n",
       "      <td>26.791713</td>\n",
       "    </tr>\n",
       "    <tr>\n",
       "      <th>Used to commute, now work from home</th>\n",
       "      <td>4903</td>\n",
       "      <td>19.608863</td>\n",
       "    </tr>\n",
       "    <tr>\n",
       "      <th>Used to work from home and still do</th>\n",
       "      <td>2739</td>\n",
       "      <td>10.954247</td>\n",
       "    </tr>\n",
       "    <tr>\n",
       "      <th>Used to work from home, but now I commute</th>\n",
       "      <td>1032</td>\n",
       "      <td>4.127340</td>\n",
       "    </tr>\n",
       "  </tbody>\n",
       "</table>\n",
       "</div>"
      ],
      "text/plain": [
       "                                             count of users  percentage\n",
       "Question #1 Answer                                                     \n",
       "I continue to commute to work                          7845   31.374980\n",
       "I have recently been furloughed or laid-off            1786    7.142857\n",
       "Not working for pay before start of COVID19            6699   26.791713\n",
       "Used to commute, now work from home                    4903   19.608863\n",
       "Used to work from home and still do                    2739   10.954247\n",
       "Used to work from home, but now I commute              1032    4.127340"
      ]
     },
     "execution_count": 9,
     "metadata": {},
     "output_type": "execute_result"
    }
   ],
   "source": [
    "agg_work_status"
   ]
  },
  {
   "cell_type": "markdown",
   "metadata": {},
   "source": [
    "### Observation: Nearly 20% of the workers switch to work from home from commuting. "
   ]
  },
  {
   "cell_type": "markdown",
   "metadata": {},
   "source": [
    "# Data processing"
   ]
  },
  {
   "cell_type": "markdown",
   "metadata": {},
   "source": [
    "### Extract state and region information from geography column"
   ]
  },
  {
   "cell_type": "code",
   "execution_count": 10,
   "metadata": {
    "collapsed": true
   },
   "outputs": [],
   "source": [
    "# convert column dtype from object to string \n",
    "work_status['Geography'] = work_status['Geography'].astype(\"string\")\n",
    "\n",
    "work_status['state'] = work_status['Geography'].str.split(\"-\", n = 3, expand = True).get(2).str.replace(\"'\", '')"
   ]
  },
  {
   "cell_type": "code",
   "execution_count": 11,
   "metadata": {
    "collapsed": true
   },
   "outputs": [],
   "source": [
    "work_status['region'] = work_status['Geography'].str.split(\"-\", n = 3, expand = True).get(1)"
   ]
  },
  {
   "cell_type": "markdown",
   "metadata": {},
   "source": [
    "### Check the number of samples for each category of state, region, age, and gender"
   ]
  },
  {
   "cell_type": "code",
   "execution_count": 12,
   "metadata": {
    "scrolled": true
   },
   "outputs": [
    {
     "data": {
      "text/plain": [
       "state\n",
       "AK      34\n",
       "AL     523\n",
       "AR      63\n",
       "AZ     632\n",
       "CA    1710\n",
       "CO     824\n",
       "CT     305\n",
       "DC      77\n",
       "DE      70\n",
       "FL     956\n",
       "GA     988\n",
       "HI      32\n",
       "IA     511\n",
       "ID     166\n",
       "IL    1853\n",
       "IN     513\n",
       "KS     169\n",
       "KY     165\n",
       "LA     170\n",
       "MA     225\n",
       "MD     220\n",
       "ME      71\n",
       "MI     332\n",
       "MN     832\n",
       "MO     782\n",
       "MS     252\n",
       "MT     161\n",
       "NC    1347\n",
       "ND      88\n",
       "NE     305\n",
       "NH      25\n",
       "NJ     597\n",
       "NM     303\n",
       "NV     265\n",
       "NY    1153\n",
       "OH     571\n",
       "OK     426\n",
       "OR     351\n",
       "PA     940\n",
       "RI      23\n",
       "SC     336\n",
       "SD     128\n",
       "TN     346\n",
       "TX    1882\n",
       "UT     385\n",
       "VA    1332\n",
       "VT      46\n",
       "WA     422\n",
       "WI     957\n",
       "WV      18\n",
       "WY      93\n",
       "Name: User ID, dtype: int64"
      ]
     },
     "execution_count": 12,
     "metadata": {},
     "output_type": "execute_result"
    }
   ],
   "source": [
    "work_status.groupby('state').count()['User ID']"
   ]
  },
  {
   "cell_type": "code",
   "execution_count": 13,
   "metadata": {
    "scrolled": true
   },
   "outputs": [
    {
     "data": {
      "text/plain": [
       "region\n",
       "MIDWEST      7041\n",
       "NORTHEAST    3385\n",
       "SOUTH        9171\n",
       "WEST         5378\n",
       "Name: User ID, dtype: int64"
      ]
     },
     "execution_count": 13,
     "metadata": {},
     "output_type": "execute_result"
    }
   ],
   "source": [
    "work_status.groupby('region').count()['User ID']"
   ]
  },
  {
   "cell_type": "code",
   "execution_count": 14,
   "metadata": {
    "scrolled": false
   },
   "outputs": [
    {
     "data": {
      "text/html": [
       "<div>\n",
       "<style scoped>\n",
       "    .dataframe tbody tr th:only-of-type {\n",
       "        vertical-align: middle;\n",
       "    }\n",
       "\n",
       "    .dataframe tbody tr th {\n",
       "        vertical-align: top;\n",
       "    }\n",
       "\n",
       "    .dataframe thead th {\n",
       "        text-align: right;\n",
       "    }\n",
       "</style>\n",
       "<table border=\"1\" class=\"dataframe\">\n",
       "  <thead>\n",
       "    <tr style=\"text-align: right;\">\n",
       "      <th></th>\n",
       "      <th>User ID</th>\n",
       "    </tr>\n",
       "    <tr>\n",
       "      <th>Age</th>\n",
       "      <th></th>\n",
       "    </tr>\n",
       "  </thead>\n",
       "  <tbody>\n",
       "    <tr>\n",
       "      <th>18-24</th>\n",
       "      <td>1581</td>\n",
       "    </tr>\n",
       "    <tr>\n",
       "      <th>25-34</th>\n",
       "      <td>4212</td>\n",
       "    </tr>\n",
       "    <tr>\n",
       "      <th>35-44</th>\n",
       "      <td>4121</td>\n",
       "    </tr>\n",
       "    <tr>\n",
       "      <th>45-54</th>\n",
       "      <td>4431</td>\n",
       "    </tr>\n",
       "    <tr>\n",
       "      <th>55-64</th>\n",
       "      <td>4356</td>\n",
       "    </tr>\n",
       "    <tr>\n",
       "      <th>65+</th>\n",
       "      <td>3851</td>\n",
       "    </tr>\n",
       "    <tr>\n",
       "      <th>Unknown</th>\n",
       "      <td>2452</td>\n",
       "    </tr>\n",
       "  </tbody>\n",
       "</table>\n",
       "</div>"
      ],
      "text/plain": [
       "         User ID\n",
       "Age             \n",
       "18-24       1581\n",
       "25-34       4212\n",
       "35-44       4121\n",
       "45-54       4431\n",
       "55-64       4356\n",
       "65+         3851\n",
       "Unknown     2452"
      ]
     },
     "execution_count": 14,
     "metadata": {},
     "output_type": "execute_result"
    }
   ],
   "source": [
    "work_status.groupby('Age').count()[['User ID']]"
   ]
  },
  {
   "cell_type": "code",
   "execution_count": 15,
   "metadata": {},
   "outputs": [
    {
     "data": {
      "text/html": [
       "<div>\n",
       "<style scoped>\n",
       "    .dataframe tbody tr th:only-of-type {\n",
       "        vertical-align: middle;\n",
       "    }\n",
       "\n",
       "    .dataframe tbody tr th {\n",
       "        vertical-align: top;\n",
       "    }\n",
       "\n",
       "    .dataframe thead th {\n",
       "        text-align: right;\n",
       "    }\n",
       "</style>\n",
       "<table border=\"1\" class=\"dataframe\">\n",
       "  <thead>\n",
       "    <tr style=\"text-align: right;\">\n",
       "      <th></th>\n",
       "      <th>User ID</th>\n",
       "    </tr>\n",
       "    <tr>\n",
       "      <th>Gender</th>\n",
       "      <th></th>\n",
       "    </tr>\n",
       "  </thead>\n",
       "  <tbody>\n",
       "    <tr>\n",
       "      <th>Female</th>\n",
       "      <td>11083</td>\n",
       "    </tr>\n",
       "    <tr>\n",
       "      <th>Male</th>\n",
       "      <td>11627</td>\n",
       "    </tr>\n",
       "    <tr>\n",
       "      <th>Unknown</th>\n",
       "      <td>2294</td>\n",
       "    </tr>\n",
       "  </tbody>\n",
       "</table>\n",
       "</div>"
      ],
      "text/plain": [
       "         User ID\n",
       "Gender          \n",
       "Female     11083\n",
       "Male       11627\n",
       "Unknown     2294"
      ]
     },
     "execution_count": 15,
     "metadata": {},
     "output_type": "execute_result"
    }
   ],
   "source": [
    "work_status.groupby('Gender').count()[['User ID']]"
   ]
  },
  {
   "cell_type": "markdown",
   "metadata": {},
   "source": [
    "### Create a column indicating whether the person is remote working"
   ]
  },
  {
   "cell_type": "code",
   "execution_count": 16,
   "metadata": {
    "collapsed": true
   },
   "outputs": [],
   "source": [
    "work_status['remote'] = work_status['Question #1 Answer']\\\n",
    "                        .apply(lambda x: 1 if x == \"Used to commute, now work from home\" else 0)"
   ]
  },
  {
   "cell_type": "markdown",
   "metadata": {},
   "source": [
    "### Check the distribution of age for people who remain working from home since pandemic"
   ]
  },
  {
   "cell_type": "code",
   "execution_count": 17,
   "metadata": {
    "scrolled": false
   },
   "outputs": [
    {
     "data": {
      "text/html": [
       "<div>\n",
       "<style scoped>\n",
       "    .dataframe tbody tr th:only-of-type {\n",
       "        vertical-align: middle;\n",
       "    }\n",
       "\n",
       "    .dataframe tbody tr th {\n",
       "        vertical-align: top;\n",
       "    }\n",
       "\n",
       "    .dataframe thead th {\n",
       "        text-align: right;\n",
       "    }\n",
       "</style>\n",
       "<table border=\"1\" class=\"dataframe\">\n",
       "  <thead>\n",
       "    <tr style=\"text-align: right;\">\n",
       "      <th></th>\n",
       "      <th>User ID</th>\n",
       "    </tr>\n",
       "    <tr>\n",
       "      <th>Age</th>\n",
       "      <th></th>\n",
       "    </tr>\n",
       "  </thead>\n",
       "  <tbody>\n",
       "    <tr>\n",
       "      <th>18-24</th>\n",
       "      <td>143</td>\n",
       "    </tr>\n",
       "    <tr>\n",
       "      <th>25-34</th>\n",
       "      <td>386</td>\n",
       "    </tr>\n",
       "    <tr>\n",
       "      <th>35-44</th>\n",
       "      <td>485</td>\n",
       "    </tr>\n",
       "    <tr>\n",
       "      <th>45-54</th>\n",
       "      <td>499</td>\n",
       "    </tr>\n",
       "    <tr>\n",
       "      <th>55-64</th>\n",
       "      <td>571</td>\n",
       "    </tr>\n",
       "    <tr>\n",
       "      <th>65+</th>\n",
       "      <td>389</td>\n",
       "    </tr>\n",
       "    <tr>\n",
       "      <th>Unknown</th>\n",
       "      <td>266</td>\n",
       "    </tr>\n",
       "  </tbody>\n",
       "</table>\n",
       "</div>"
      ],
      "text/plain": [
       "         User ID\n",
       "Age             \n",
       "18-24        143\n",
       "25-34        386\n",
       "35-44        485\n",
       "45-54        499\n",
       "55-64        571\n",
       "65+          389\n",
       "Unknown      266"
      ]
     },
     "execution_count": 17,
     "metadata": {},
     "output_type": "execute_result"
    }
   ],
   "source": [
    "work_status[work_status['Question #1 Answer'] == 'Used to work from home and still do'].groupby('Age').count()[['User ID']]"
   ]
  },
  {
   "cell_type": "markdown",
   "metadata": {},
   "source": [
    "### Check the distribution of answers for people over 65 years old"
   ]
  },
  {
   "cell_type": "code",
   "execution_count": 18,
   "metadata": {
    "scrolled": true
   },
   "outputs": [
    {
     "data": {
      "text/html": [
       "<div>\n",
       "<style scoped>\n",
       "    .dataframe tbody tr th:only-of-type {\n",
       "        vertical-align: middle;\n",
       "    }\n",
       "\n",
       "    .dataframe tbody tr th {\n",
       "        vertical-align: top;\n",
       "    }\n",
       "\n",
       "    .dataframe thead th {\n",
       "        text-align: right;\n",
       "    }\n",
       "</style>\n",
       "<table border=\"1\" class=\"dataframe\">\n",
       "  <thead>\n",
       "    <tr style=\"text-align: right;\">\n",
       "      <th></th>\n",
       "      <th>User ID</th>\n",
       "    </tr>\n",
       "    <tr>\n",
       "      <th>Question #1 Answer</th>\n",
       "      <th></th>\n",
       "    </tr>\n",
       "  </thead>\n",
       "  <tbody>\n",
       "    <tr>\n",
       "      <th>I continue to commute to work</th>\n",
       "      <td>853</td>\n",
       "    </tr>\n",
       "    <tr>\n",
       "      <th>I have recently been furloughed or laid-off</th>\n",
       "      <td>195</td>\n",
       "    </tr>\n",
       "    <tr>\n",
       "      <th>Not working for pay before start of COVID19</th>\n",
       "      <td>1813</td>\n",
       "    </tr>\n",
       "    <tr>\n",
       "      <th>Used to commute, now work from home</th>\n",
       "      <td>495</td>\n",
       "    </tr>\n",
       "    <tr>\n",
       "      <th>Used to work from home and still do</th>\n",
       "      <td>389</td>\n",
       "    </tr>\n",
       "    <tr>\n",
       "      <th>Used to work from home, but now I commute</th>\n",
       "      <td>106</td>\n",
       "    </tr>\n",
       "  </tbody>\n",
       "</table>\n",
       "</div>"
      ],
      "text/plain": [
       "                                             User ID\n",
       "Question #1 Answer                                  \n",
       "I continue to commute to work                    853\n",
       "I have recently been furloughed or laid-off      195\n",
       "Not working for pay before start of COVID19     1813\n",
       "Used to commute, now work from home              495\n",
       "Used to work from home and still do              389\n",
       "Used to work from home, but now I commute        106"
      ]
     },
     "execution_count": 18,
     "metadata": {},
     "output_type": "execute_result"
    }
   ],
   "source": [
    "work_status[work_status['Age'] == '65+'].groupby('Question #1 Answer').count()[['User ID']]"
   ]
  },
  {
   "cell_type": "markdown",
   "metadata": {},
   "source": [
    "### Remove unknown group regards to age, gender, and region variables "
   ]
  },
  {
   "cell_type": "code",
   "execution_count": 19,
   "metadata": {
    "collapsed": true
   },
   "outputs": [],
   "source": [
    "age_remove_na = work_status[work_status['Age'] != 'Unknown']"
   ]
  },
  {
   "cell_type": "code",
   "execution_count": 20,
   "metadata": {
    "collapsed": true
   },
   "outputs": [],
   "source": [
    "gender_remove_na = work_status[work_status['Gender'] != 'Unknown']"
   ]
  },
  {
   "cell_type": "code",
   "execution_count": 21,
   "metadata": {
    "collapsed": true
   },
   "outputs": [],
   "source": [
    "region_remove_na = work_status.dropna()"
   ]
  },
  {
   "cell_type": "markdown",
   "metadata": {},
   "source": [
    "# ANOVA: comparing remote working in age, gender, and region groups"
   ]
  },
  {
   "cell_type": "code",
   "execution_count": 22,
   "metadata": {
    "scrolled": true
   },
   "outputs": [
    {
     "data": {
      "text/html": [
       "<div>\n",
       "<style scoped>\n",
       "    .dataframe tbody tr th:only-of-type {\n",
       "        vertical-align: middle;\n",
       "    }\n",
       "\n",
       "    .dataframe tbody tr th {\n",
       "        vertical-align: top;\n",
       "    }\n",
       "\n",
       "    .dataframe thead th {\n",
       "        text-align: right;\n",
       "    }\n",
       "</style>\n",
       "<table border=\"1\" class=\"dataframe\">\n",
       "  <thead>\n",
       "    <tr style=\"text-align: right;\">\n",
       "      <th></th>\n",
       "      <th>sum_sq</th>\n",
       "      <th>df</th>\n",
       "      <th>F</th>\n",
       "      <th>PR(&gt;F)</th>\n",
       "    </tr>\n",
       "  </thead>\n",
       "  <tbody>\n",
       "    <tr>\n",
       "      <th>C(Age)</th>\n",
       "      <td>41.223066</td>\n",
       "      <td>5.0</td>\n",
       "      <td>52.299008</td>\n",
       "      <td>3.911905e-54</td>\n",
       "    </tr>\n",
       "    <tr>\n",
       "      <th>Residual</th>\n",
       "      <td>3554.236627</td>\n",
       "      <td>22546.0</td>\n",
       "      <td>NaN</td>\n",
       "      <td>NaN</td>\n",
       "    </tr>\n",
       "  </tbody>\n",
       "</table>\n",
       "</div>"
      ],
      "text/plain": [
       "               sum_sq       df          F        PR(>F)\n",
       "C(Age)      41.223066      5.0  52.299008  3.911905e-54\n",
       "Residual  3554.236627  22546.0        NaN           NaN"
      ]
     },
     "execution_count": 22,
     "metadata": {},
     "output_type": "execute_result"
    }
   ],
   "source": [
    "model_age = ols('remote ~ C(Age)', data=age_remove_na).fit()\n",
    "aov_table_age = sm.stats.anova_lm(model_age, typ=2)\n",
    "aov_table_age"
   ]
  },
  {
   "cell_type": "markdown",
   "metadata": {},
   "source": [
    "### Observation: There is a significant difference between percentage of people who switched to remote for different age groups."
   ]
  },
  {
   "cell_type": "code",
   "execution_count": 23,
   "metadata": {},
   "outputs": [
    {
     "data": {
      "text/html": [
       "<div>\n",
       "<style scoped>\n",
       "    .dataframe tbody tr th:only-of-type {\n",
       "        vertical-align: middle;\n",
       "    }\n",
       "\n",
       "    .dataframe tbody tr th {\n",
       "        vertical-align: top;\n",
       "    }\n",
       "\n",
       "    .dataframe thead th {\n",
       "        text-align: right;\n",
       "    }\n",
       "</style>\n",
       "<table border=\"1\" class=\"dataframe\">\n",
       "  <thead>\n",
       "    <tr style=\"text-align: right;\">\n",
       "      <th></th>\n",
       "      <th>sum_sq</th>\n",
       "      <th>df</th>\n",
       "      <th>F</th>\n",
       "      <th>PR(&gt;F)</th>\n",
       "    </tr>\n",
       "  </thead>\n",
       "  <tbody>\n",
       "    <tr>\n",
       "      <th>C(Gender)</th>\n",
       "      <td>0.565069</td>\n",
       "      <td>1.0</td>\n",
       "      <td>3.545408</td>\n",
       "      <td>0.059723</td>\n",
       "    </tr>\n",
       "    <tr>\n",
       "      <th>Residual</th>\n",
       "      <td>3619.211638</td>\n",
       "      <td>22708.0</td>\n",
       "      <td>NaN</td>\n",
       "      <td>NaN</td>\n",
       "    </tr>\n",
       "  </tbody>\n",
       "</table>\n",
       "</div>"
      ],
      "text/plain": [
       "                sum_sq       df         F    PR(>F)\n",
       "C(Gender)     0.565069      1.0  3.545408  0.059723\n",
       "Residual   3619.211638  22708.0       NaN       NaN"
      ]
     },
     "execution_count": 23,
     "metadata": {},
     "output_type": "execute_result"
    }
   ],
   "source": [
    "model_gender = ols('remote ~ C(Gender)', data=gender_remove_na).fit()\n",
    "aov_table_gender = sm.stats.anova_lm(model_gender, typ=2)\n",
    "aov_table_gender"
   ]
  },
  {
   "cell_type": "markdown",
   "metadata": {},
   "source": [
    "### Observation: There is not a significant difference between percentage of people who switched to remote for gender."
   ]
  },
  {
   "cell_type": "code",
   "execution_count": 24,
   "metadata": {},
   "outputs": [
    {
     "data": {
      "text/plain": [
       "LeveneResult(statistic=9.151491636424833, pvalue=4.760629756513708e-06)"
      ]
     },
     "execution_count": 24,
     "metadata": {},
     "output_type": "execute_result"
    }
   ],
   "source": [
    "stats.levene(region_remove_na['remote'][region_remove_na['region'] == 'SOUTH'],\n",
    "             region_remove_na['remote'][region_remove_na['region'] == 'WEST'],\n",
    "             region_remove_na['remote'][region_remove_na['region'] == 'MIDWEST'],\n",
    "             region_remove_na['remote'][region_remove_na['region'] == 'NORTHEAST'])"
   ]
  },
  {
   "cell_type": "markdown",
   "metadata": {},
   "source": [
    "### Observation: There is a significant difference between percentage of people switches to remote working between different regions."
   ]
  },
  {
   "cell_type": "code",
   "execution_count": 30,
   "metadata": {},
   "outputs": [
    {
     "data": {
      "text/html": [
       "<div>\n",
       "<style scoped>\n",
       "    .dataframe tbody tr th:only-of-type {\n",
       "        vertical-align: middle;\n",
       "    }\n",
       "\n",
       "    .dataframe tbody tr th {\n",
       "        vertical-align: top;\n",
       "    }\n",
       "\n",
       "    .dataframe thead th {\n",
       "        text-align: right;\n",
       "    }\n",
       "</style>\n",
       "<table border=\"1\" class=\"dataframe\">\n",
       "  <thead>\n",
       "    <tr style=\"text-align: right;\">\n",
       "      <th></th>\n",
       "      <th>sum_sq</th>\n",
       "      <th>df</th>\n",
       "      <th>F</th>\n",
       "      <th>PR(&gt;F)</th>\n",
       "    </tr>\n",
       "  </thead>\n",
       "  <tbody>\n",
       "    <tr>\n",
       "      <th>C(Gender)</th>\n",
       "      <td>1.099867</td>\n",
       "      <td>1.0</td>\n",
       "      <td>6.985810</td>\n",
       "      <td>8.221489e-03</td>\n",
       "    </tr>\n",
       "    <tr>\n",
       "      <th>C(Age)</th>\n",
       "      <td>41.771080</td>\n",
       "      <td>6.0</td>\n",
       "      <td>44.218191</td>\n",
       "      <td>4.612748e-54</td>\n",
       "    </tr>\n",
       "    <tr>\n",
       "      <th>C(Gender):C(Age)</th>\n",
       "      <td>4.113143</td>\n",
       "      <td>6.0</td>\n",
       "      <td>4.354107</td>\n",
       "      <td>2.122036e-04</td>\n",
       "    </tr>\n",
       "    <tr>\n",
       "      <th>Residual</th>\n",
       "      <td>3573.327414</td>\n",
       "      <td>22696.0</td>\n",
       "      <td>NaN</td>\n",
       "      <td>NaN</td>\n",
       "    </tr>\n",
       "  </tbody>\n",
       "</table>\n",
       "</div>"
      ],
      "text/plain": [
       "                       sum_sq       df          F        PR(>F)\n",
       "C(Gender)            1.099867      1.0   6.985810  8.221489e-03\n",
       "C(Age)              41.771080      6.0  44.218191  4.612748e-54\n",
       "C(Gender):C(Age)     4.113143      6.0   4.354107  2.122036e-04\n",
       "Residual          3573.327414  22696.0        NaN           NaN"
      ]
     },
     "execution_count": 30,
     "metadata": {},
     "output_type": "execute_result"
    }
   ],
   "source": [
    "model_gender_age = ols('remote ~ C(Gender) * C(Age)', data=gender_remove_na).fit()\n",
    "aov_table_gender_age = sm.stats.anova_lm(model_gender_age, typ=2)\n",
    "aov_table_gender_age"
   ]
  },
  {
   "cell_type": "markdown",
   "metadata": {},
   "source": [
    "### Observation: There is a significant interaction effect between age and gender variable. "
   ]
  },
  {
   "cell_type": "markdown",
   "metadata": {},
   "source": [
    "# Tukey's pairwise comparison for different age and region"
   ]
  },
  {
   "cell_type": "code",
   "execution_count": 25,
   "metadata": {
    "scrolled": true
   },
   "outputs": [
    {
     "name": "stdout",
     "output_type": "stream",
     "text": [
      "Multiple Comparison of Means - Tukey HSD, FWER=0.05 \n",
      "====================================================\n",
      "group1 group2 meandiff p-adj   lower   upper  reject\n",
      "----------------------------------------------------\n",
      " 18-24  25-34   0.0472  0.001  0.0138  0.0806   True\n",
      " 18-24  35-44   0.0515  0.001   0.018   0.085   True\n",
      " 18-24  45-54   0.0275 0.1695 -0.0057  0.0606  False\n",
      " 18-24  55-64  -0.0282 0.1496 -0.0614   0.005  False\n",
      " 18-24    65+  -0.0631  0.001 -0.0969 -0.0293   True\n",
      " 25-34  35-44   0.0043    0.9 -0.0205  0.0291  False\n",
      " 25-34  45-54  -0.0197 0.1914 -0.0441  0.0046  False\n",
      " 25-34  55-64  -0.0754  0.001 -0.0998 -0.0509   True\n",
      " 25-34    65+  -0.1103  0.001 -0.1355 -0.0851   True\n",
      " 35-44  45-54   -0.024 0.0585 -0.0485  0.0005  False\n",
      " 35-44  55-64  -0.0797  0.001 -0.1043 -0.0551   True\n",
      " 35-44    65+  -0.1146  0.001   -0.14 -0.0892   True\n",
      " 45-54  55-64  -0.0557  0.001 -0.0798 -0.0315   True\n",
      " 45-54    65+  -0.0906  0.001 -0.1155 -0.0657   True\n",
      " 55-64    65+  -0.0349  0.001 -0.0599 -0.0099   True\n",
      "----------------------------------------------------\n"
     ]
    }
   ],
   "source": [
    "age_compare = pairwise_tukeyhsd(endog=age_remove_na['remote'], groups=age_remove_na['Age'], alpha=0.05)\n",
    "print(age_compare)"
   ]
  },
  {
   "cell_type": "code",
   "execution_count": 26,
   "metadata": {
    "scrolled": false
   },
   "outputs": [
    {
     "name": "stdout",
     "output_type": "stream",
     "text": [
      "   Multiple Comparison of Means - Tukey HSD, FWER=0.05    \n",
      "==========================================================\n",
      "  group1    group2  meandiff p-adj   lower   upper  reject\n",
      "----------------------------------------------------------\n",
      "  MIDWEST NORTHEAST   0.0182 0.1247 -0.0031  0.0395  False\n",
      "  MIDWEST     SOUTH  -0.0183 0.0188 -0.0345 -0.0022   True\n",
      "  MIDWEST      WEST  -0.0183 0.0533 -0.0368  0.0002  False\n",
      "NORTHEAST     SOUTH  -0.0365  0.001  -0.057  -0.016   True\n",
      "NORTHEAST      WEST  -0.0365  0.001 -0.0589 -0.0141   True\n",
      "    SOUTH      WEST      0.0    0.9 -0.0175  0.0175  False\n",
      "----------------------------------------------------------\n"
     ]
    }
   ],
   "source": [
    "region_compare = pairwise_tukeyhsd(endog=region_remove_na['remote'], groups=region_remove_na['region'], alpha=0.05)\n",
    "print(region_compare)"
   ]
  },
  {
   "cell_type": "markdown",
   "metadata": {},
   "source": [
    "# Save the processed, final dataframe"
   ]
  },
  {
   "cell_type": "code",
   "execution_count": 27,
   "metadata": {},
   "outputs": [
    {
     "data": {
      "text/plain": [
       "'/Users/apple/Desktop/Fall_2020/data-512/data-512-final/data/final_df.csv'"
      ]
     },
     "execution_count": 27,
     "metadata": {},
     "output_type": "execute_result"
    }
   ],
   "source": [
    "new_df_path = os.path.join(os.getcwd(), 'data', 'final_df.csv')\n",
    "new_df_path"
   ]
  },
  {
   "cell_type": "code",
   "execution_count": 28,
   "metadata": {
    "collapsed": true
   },
   "outputs": [],
   "source": [
    "work_status.to_csv(new_df_path, index=False)"
   ]
  },
  {
   "cell_type": "code",
   "execution_count": null,
   "metadata": {
    "collapsed": true
   },
   "outputs": [],
   "source": []
  }
 ],
 "metadata": {
  "kernelspec": {
   "display_name": "Python 3",
   "language": "python",
   "name": "python3"
  },
  "language_info": {
   "codemirror_mode": {
    "name": "ipython",
    "version": 3
   },
   "file_extension": ".py",
   "mimetype": "text/x-python",
   "name": "python",
   "nbconvert_exporter": "python",
   "pygments_lexer": "ipython3",
   "version": "3.6.2"
  }
 },
 "nbformat": 4,
 "nbformat_minor": 2
}
