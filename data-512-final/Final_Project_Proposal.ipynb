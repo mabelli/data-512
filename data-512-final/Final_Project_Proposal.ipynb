{
 "cells": [
  {
   "cell_type": "markdown",
   "metadata": {},
   "source": [
    "# Final Project Proposal"
   ]
  },
  {
   "cell_type": "markdown",
   "metadata": {},
   "source": [
    "## Motivation and problem statement"
   ]
  },
  {
   "cell_type": "markdown",
   "metadata": {},
   "source": [
    "For my final project, I want to research recent events that affect people. I decided to focus on the effects of the coronavirus (COVID-19) pandemic on the labor market. The impact of COVID-19 on the labor market is a situation that I observe and experience on my own. Major companies switch to remote conferences and remote working. This trend may persist after the pandemic, fundamentally changing the working routine and environment for people. Job markets are shrinking due to uncertainties in the economy, leaving recent graduates and job seekers in dismay. Essential workers play key roles in maintaining normal functions under increasing hazards, while their pay fails to compensate for their risks. Scholars point out that pandemic aggravates inequality, worsening the racial wealth gap and the gender pay gap. These phenomena and discussions have made me curious about how employment has changed since the outbreak regarding gender, age, race, and other factors. "
   ]
  },
  {
   "cell_type": "markdown",
   "metadata": {},
   "source": [
    "## Background and Related Work"
   ]
  },
  {
   "cell_type": "markdown",
   "metadata": {},
   "source": [
    "Employment has seen drastic changes before and after the COVID-19 outbreak. A report from NYTimes in September shows that the number of jobs remain far below that of four years ago. Retail and restaurant work experience the slowest job growth over the past few months. It has been warned by numerous economists that low-wage workers have experienced greater loss than more highly skilled workers. News and studies have been discussing the impact of COVID-19 on employment and unemployment rate since the start of the pandemic. Some major focus are gender, race, sector, and education levels. <br>\n",
    "For changes in gender, analysis shows that women unemployment rate has increased more than that of men, but the rate experiences a faster rebound than that of men.  <br>\n",
    "For race, figures from the Bureau of Labor Statistics suggest that black unemployment rates are higher than those for other demographics. <br>\n",
    "For sector, studies suggest that the most affected sector is leisure and hospitality, which has so far lost or furloughed about 30 percent of employment. <br>\n",
    "Overall, it seems that the wealth gap has been worsened. <br>\n",
    "There are other interesting studies related to government supports and corporate employment. For example, one study suggests that for companies with 1-9 employees, the most important factor of employment loss comes from temporary or permanent closings. For companies with more than 10 employees, the most essential employment loss comes from continuing employers shifting to larger employers. Another study suggests businesses most affected are those in the affluent areas, thus stimulus payments to low-income households fail to boost employment at small businesses. \n",
    "The goal of my study is to confirm and complement these research and provide additional insights of employment changes. "
   ]
  },
  {
   "cell_type": "markdown",
   "metadata": {},
   "source": [
    "## Research questions and hypotheses"
   ]
  },
  {
   "cell_type": "markdown",
   "metadata": {},
   "source": [
    "Research question: <br>\n",
    "What is the impact of COVID-19 on US employment and unemployment situation? Specifically, how has employment and unemployment changed in respect to gender, age, race, and other factors? \n",
    "\n",
    "Hypothesis 1: <br>\n",
    "A higher number or percentage of women experience laid off because the industries/sectors/job types they work in face a drastic decrease of customer demands and thus resulting in massive worker reduction. For instance, service workers and teachers. \n",
    "\n",
    "Hypothesis 2: <br>\n",
    "A higher number of senior people (55 years old or higher) will switch to remote working, since they have a higher risk of contracting the disease. \n",
    "\n",
    "Hypothesis 3: <br>\n",
    "A higher number of married couples will switch to remote working because they would have more flexibility in working schedules and locations, so that they can take care of household responsibilities as well. "
   ]
  },
  {
   "cell_type": "markdown",
   "metadata": {},
   "source": [
    "## Data Used"
   ]
  },
  {
   "cell_type": "markdown",
   "metadata": {},
   "source": [
    "The \n",
    "<a href=\"https://www.bls.gov/cps/effects-of-the-coronavirus-covid-19-pandemic.htm#:~:text=Of%20the%2018.1%20million%20people,the%20pandemic%20(83%20percent).\">dataset</a> I will use are the monthly estimates of employment data from May to September collected by the U.S. Bureau of Labor Statistics. These datasets provide demographics, occupation, and industry information of different types of workers: employed, recently unemployed due to pandemic, and unemployed people not looking for jobs. I can learn how employment conditions change considering the parameters available in the datasets. <br>"
   ]
  },
  {
   "cell_type": "markdown",
   "metadata": {},
   "source": [
    "## Methodology"
   ]
  },
  {
   "cell_type": "markdown",
   "metadata": {},
   "source": [
    "Time series analysis: <br>\n",
    "Compare temporal changes in employment and unemployment for different demographic groups. "
   ]
  },
  {
   "cell_type": "markdown",
   "metadata": {},
   "source": [
    "## Unknowns and dependencies"
   ]
  },
  {
   "cell_type": "markdown",
   "metadata": {},
   "source": [
    "Since I have access to the datasets and define the research questions, the project is likely to be carried out successfully as expected. However, there might be some adjustments and imputations if the tables have a large number of missing values, which is not the case for the first 5 datasets that I examined. "
   ]
  },
  {
   "cell_type": "markdown",
   "metadata": {},
   "source": [
    "## Reference"
   ]
  },
  {
   "cell_type": "markdown",
   "metadata": {},
   "source": [
    "Chetty, Raj, et al. \"How did covid-19 and stabilization policies affect spending and employment? a new real-time economic tracker based on private sector data.\" No. w27431. National Bureau of Economic Research, 2020.\n",
    "\n",
    "Dalton, Michael, Elizabeth Weber Handwerker, and Mark A. Loewenstein. \"Employment Changes by Employer Size using the Current Employment Statistics Survey microdata during the COVID-19 pandemic.\" Covid Economics, September 1.46 (2020): 123-136.\n",
    "\n",
    "Nelson D. Schwartz. \"Jobs Report Shows Gains but Vulnerability to New Virus Surge\". November 6, 2020. \n",
    "\n",
    "\"Powell Says Rates Are Likely to Stay Low for Years.\" New York Times, September 18, 2020.\n",
    "\n"
   ]
  },
  {
   "cell_type": "code",
   "execution_count": null,
   "metadata": {
    "collapsed": true
   },
   "outputs": [],
   "source": []
  }
 ],
 "metadata": {
  "kernelspec": {
   "display_name": "Python 3",
   "language": "python",
   "name": "python3"
  },
  "language_info": {
   "codemirror_mode": {
    "name": "ipython",
    "version": 3
   },
   "file_extension": ".py",
   "mimetype": "text/x-python",
   "name": "python",
   "nbconvert_exporter": "python",
   "pygments_lexer": "ipython3",
   "version": "3.6.2"
  }
 },
 "nbformat": 4,
 "nbformat_minor": 2
}
