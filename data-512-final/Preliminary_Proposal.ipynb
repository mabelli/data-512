{
 "cells": [
  {
   "cell_type": "markdown",
   "metadata": {},
   "source": [
    "For my final project, I want to research recent events that affect people. I decided to focus on the effects of the coronavirus (COVID-19) pandemic on the labor market. The impact of COVID-19 on the labor market is a situation that I observe and experience on my own. Major companies switch to remote conferences and remote working. This trend may persist after the pandemic, fundamentally changing the working routine and environment for people. Job markets are shrinking due to uncertainties in the economy, leaving recent graduates and job seekers in dismay. Essential workers play key roles in maintaining normal functions under increasing hazards, while their pay fails to compensate for their risks. Scholars point out that pandemic aggravates inequality, worsening the racial wealth gap and the gender pay gap. These phenomena and discussions have made me curious about how employment has changed since the outbreak regarding gender, age, race, and other factors. \n",
    "    \n",
    "The \n",
    "<a href=\"https://www.bls.gov/cps/effects-of-the-coronavirus-covid-19-pandemic.htm#:~:text=Of%20the%2018.1%20million%20people,the%20pandemic%20(83%20percent).\">dataset</a> I will use are the monthly estimates of employment data from May to September collected by the U.S. Bureau of Labor Statistics. These datasets provide demographics, occupation, and industry information of different types of workers: employed, recently unemployed due to pandemic, and unemployed people not looking for jobs. I can learn how employment conditions change considering the parameters available in the datasets. <br>\n",
    "\n",
    "Since I have access to the datasets and define the research questions, the project is likely to be carried out successfully as expected. However, there might be some adjustments and imputations if the tables have a large number of missing values, which is not the case for the first 5 datasets that I examined. "
   ]
  }
 ],
 "metadata": {
  "kernelspec": {
   "display_name": "Python 3",
   "language": "python",
   "name": "python3"
  },
  "language_info": {
   "codemirror_mode": {
    "name": "ipython",
    "version": 3
   },
   "file_extension": ".py",
   "mimetype": "text/x-python",
   "name": "python",
   "nbconvert_exporter": "python",
   "pygments_lexer": "ipython3",
   "version": "3.6.2"
  }
 },
 "nbformat": 4,
 "nbformat_minor": 2
}
